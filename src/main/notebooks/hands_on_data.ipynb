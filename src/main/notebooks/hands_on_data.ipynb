{
 "cells": [
  {
   "cell_type": "code",
   "execution_count": 1,
   "metadata": {},
   "outputs": [],
   "source": [
    "import numpy as np\n",
    "import pandas as pd"
   ]
  },
  {
   "cell_type": "code",
   "execution_count": 2,
   "metadata": {},
   "outputs": [
    {
     "name": "stdout",
     "output_type": "stream",
     "text": [
      "There are 1000 rows and 4 columns\n"
     ]
    }
   ],
   "source": [
    "df1 = pd.read_csv('data.txt', delimiter=',')\n",
    "nRow, nCol = df1.shape\n",
    "print(f'There are {nRow} rows and {nCol} columns')"
   ]
  },
  {
   "cell_type": "code",
   "execution_count": 3,
   "metadata": {},
   "outputs": [
    {
     "data": {
      "text/html": [
       "<div>\n",
       "<style scoped>\n",
       "    .dataframe tbody tr th:only-of-type {\n",
       "        vertical-align: middle;\n",
       "    }\n",
       "\n",
       "    .dataframe tbody tr th {\n",
       "        vertical-align: top;\n",
       "    }\n",
       "\n",
       "    .dataframe thead th {\n",
       "        text-align: right;\n",
       "    }\n",
       "</style>\n",
       "<table border=\"1\" class=\"dataframe\">\n",
       "  <thead>\n",
       "    <tr style=\"text-align: right;\">\n",
       "      <th></th>\n",
       "      <th>driverId</th>\n",
       "      <th>lat</th>\n",
       "      <th>lng</th>\n",
       "      <th>time</th>\n",
       "    </tr>\n",
       "  </thead>\n",
       "  <tbody>\n",
       "    <tr>\n",
       "      <th>0</th>\n",
       "      <td>180</td>\n",
       "      <td>35.716124</td>\n",
       "      <td>51.439540</td>\n",
       "      <td>2020-10-20 12:54:11.744405</td>\n",
       "    </tr>\n",
       "    <tr>\n",
       "      <th>1</th>\n",
       "      <td>154</td>\n",
       "      <td>35.674238</td>\n",
       "      <td>51.324752</td>\n",
       "      <td>2020-10-20 12:54:11.744463</td>\n",
       "    </tr>\n",
       "    <tr>\n",
       "      <th>2</th>\n",
       "      <td>118</td>\n",
       "      <td>35.660226</td>\n",
       "      <td>51.317367</td>\n",
       "      <td>2020-10-20 12:54:11.744483</td>\n",
       "    </tr>\n",
       "    <tr>\n",
       "      <th>3</th>\n",
       "      <td>194</td>\n",
       "      <td>35.725052</td>\n",
       "      <td>51.463792</td>\n",
       "      <td>2020-10-20 12:54:11.744498</td>\n",
       "    </tr>\n",
       "    <tr>\n",
       "      <th>4</th>\n",
       "      <td>132</td>\n",
       "      <td>35.758336</td>\n",
       "      <td>51.448136</td>\n",
       "      <td>2020-10-20 12:54:11.744514</td>\n",
       "    </tr>\n",
       "  </tbody>\n",
       "</table>\n",
       "</div>"
      ],
      "text/plain": [
       "   driverId        lat        lng                        time\n",
       "0       180  35.716124  51.439540  2020-10-20 12:54:11.744405\n",
       "1       154  35.674238  51.324752  2020-10-20 12:54:11.744463\n",
       "2       118  35.660226  51.317367  2020-10-20 12:54:11.744483\n",
       "3       194  35.725052  51.463792  2020-10-20 12:54:11.744498\n",
       "4       132  35.758336  51.448136  2020-10-20 12:54:11.744514"
      ]
     },
     "execution_count": 3,
     "metadata": {},
     "output_type": "execute_result"
    }
   ],
   "source": [
    "df1.head()"
   ]
  },
  {
   "cell_type": "code",
   "execution_count": 4,
   "metadata": {},
   "outputs": [
    {
     "name": "stdout",
     "output_type": "stream",
     "text": [
      "<class 'pandas.core.frame.DataFrame'>\n",
      "RangeIndex: 1000 entries, 0 to 999\n",
      "Columns: 4 entries, driverId to  time\n",
      "dtypes: float64(2), int64(1), object(1)\n",
      "memory usage: 31.4+ KB\n"
     ]
    }
   ],
   "source": [
    "df1.info(verbose=False)"
   ]
  },
  {
   "cell_type": "code",
   "execution_count": 5,
   "metadata": {},
   "outputs": [
    {
     "data": {
      "text/plain": [
       "driverId      int64\n",
       " lat        float64\n",
       " lng        float64\n",
       " time        object\n",
       "dtype: object"
      ]
     },
     "execution_count": 5,
     "metadata": {},
     "output_type": "execute_result"
    }
   ],
   "source": [
    "df1.dtypes"
   ]
  },
  {
   "cell_type": "code",
   "execution_count": 6,
   "metadata": {},
   "outputs": [],
   "source": [
    "import requests\n",
    "from kafka import KafkaProducer\n",
    "from json import dumps\n",
    "import csv"
   ]
  },
  {
   "cell_type": "code",
   "execution_count": 7,
   "metadata": {},
   "outputs": [
    {
     "name": "stdout",
     "output_type": "stream",
     "text": [
      "{'driverId': '180', ' lat': '35.716124', ' lng': '51.439540', ' time': '2020-10-20 12:54:11.744405'}\n",
      "{'driverId': '154', ' lat': '35.674238', ' lng': '51.324752', ' time': '2020-10-20 12:54:11.744463'}\n",
      "{'driverId': '118', ' lat': '35.660226', ' lng': '51.317367', ' time': '2020-10-20 12:54:11.744483'}\n",
      "{'driverId': '194', ' lat': '35.725052', ' lng': '51.463792', ' time': '2020-10-20 12:54:11.744498'}\n",
      "{'driverId': '132', ' lat': '35.758336', ' lng': '51.448136', ' time': '2020-10-20 12:54:11.744514'}\n",
      "{'driverId': '106', ' lat': '35.746166', ' lng': '51.340506', ' time': '2020-10-20 12:54:11.744528'}\n",
      "{'driverId': '113', ' lat': '35.721141', ' lng': '51.390772', ' time': '2020-10-20 12:54:11.744543'}\n",
      "{'driverId': '172', ' lat': '35.671891', ' lng': '51.458438', ' time': '2020-10-20 12:54:11.744557'}\n",
      "{'driverId': '172', ' lat': '35.728834', ' lng': '51.375421', ' time': '2020-10-20 12:54:11.744572'}\n",
      "{'driverId': '129', ' lat': '35.660456', ' lng': '51.437722', ' time': '2020-10-20 12:54:11.744586'}\n"
     ]
    }
   ],
   "source": [
    "u = 10\n",
    "with open(\"data.txt\") as file:\n",
    "    reader = csv.DictReader(file)\n",
    "    for row in reader:\n",
    "        u -=1\n",
    "        data = dict(row)\n",
    "        print(data)\n",
    "        if u ==0:\n",
    "            break"
   ]
  }
 ],
 "metadata": {
  "kernelspec": {
   "display_name": "Python 3",
   "language": "python",
   "name": "python3"
  },
  "language_info": {
   "codemirror_mode": {
    "name": "ipython",
    "version": 3
   },
   "file_extension": ".py",
   "mimetype": "text/x-python",
   "name": "python",
   "nbconvert_exporter": "python",
   "pygments_lexer": "ipython3",
   "version": "3.7.9"
  }
 },
 "nbformat": 4,
 "nbformat_minor": 4
}
